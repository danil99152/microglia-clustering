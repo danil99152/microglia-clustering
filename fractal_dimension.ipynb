{
 "cells": [
  {
   "cell_type": "code",
   "execution_count": 1,
   "metadata": {},
   "outputs": [],
   "source": [
    "import numpy as np\n",
    "import imageio\n",
    "import matplotlib.pyplot as plt\n",
    "import seaborn as sns\n",
    "import pandas as pd"
   ]
  },
  {
   "cell_type": "code",
   "execution_count": 2,
   "metadata": {},
   "outputs": [],
   "source": [
    "def rgb2gray(rgb):\n",
    "    r, g, b = rgb[:,:,0], rgb[:,:,1], rgb[:,:,2]\n",
    "    gray = 0.2989 * r + 0.5870 * g + 0.1140 * b\n",
    "    return gray\n",
    "\n",
    "def fractal_dimension(Z, threshold=50):\n",
    "    # Only for 2d image\n",
    "    assert(len(Z.shape) == 2)\n",
    "\n",
    "    # From https://github.com/rougier/numpy-100 (#87)\n",
    "    def boxcount(Z, k):\n",
    "        S = np.add.reduceat(\n",
    "            np.add.reduceat(Z, np.arange(0, Z.shape[0], k), axis=0),\n",
    "                               np.arange(0, Z.shape[1], k), axis=1)\n",
    "\n",
    "        # We count non-empty (0) and non-full boxes (k*k)\n",
    "        return len(np.where((S > 0) & (S < k*k))[0])\n",
    "\n",
    "    # Transform Z into a binary array\n",
    "    Z = (Z < threshold)\n",
    "\n",
    "    # Minimal dimension of image\n",
    "    p = min(Z.shape)\n",
    "\n",
    "    # Greatest power of 2 less than or equal to p\n",
    "    n = 2**np.floor(np.log(p)/np.log(2))\n",
    "\n",
    "    # Extract the exponent\n",
    "    n = int(np.log(n)/np.log(2))\n",
    "\n",
    "    # Build successive box sizes (from 2**n down to 2**1)\n",
    "    sizes = 2**np.arange(n, 1, -1)\n",
    "\n",
    "    # Actual box counting with decreasing size\n",
    "    counts = []\n",
    "    for size in sizes:\n",
    "        counts.append(boxcount(Z, size))\n",
    "\n",
    "    # Fit the successive log(sizes) with log (counts)\n",
    "    coeffs = np.polyfit(np.log(sizes), np.log(counts), 1)\n",
    "    return -coeffs[0]"
   ]
  },
  {
   "cell_type": "code",
   "execution_count": 3,
   "metadata": {},
   "outputs": [],
   "source": [
    "# Z = (rgb2gray(imageio.imread('3.png')) < 50)\n",
    "\n",
    "# byteImgIO = io.BytesIO()\n",
    "# byteImg = Image.fromarray(Z)\n",
    "# byteImg = byteImg.convert(\"L\")\n",
    "# byteImg.save(byteImgIO, \"PNG\")\n",
    "# byteImgIO.seek(0)\n",
    "# byteImg = byteImgIO.read()\n",
    "# dataBytesIO = io.BytesIO(byteImg)\n",
    "# Image.open(dataBytesIO)"
   ]
  },
  {
   "cell_type": "code",
   "execution_count": 4,
   "metadata": {},
   "outputs": [],
   "source": [
    "A1 = [rgb2gray(imageio.imread('A1-1.PNG')), \n",
    "      rgb2gray(imageio.imread('A1-2.PNG')),\n",
    "      rgb2gray(imageio.imread('A1-3.PNG')),\n",
    "      rgb2gray(imageio.imread('A1-4.PNG'))]\n",
    "\n",
    "A2 = [rgb2gray(imageio.imread('A2-1.png')), \n",
    "      rgb2gray(imageio.imread('A2-2.PNG')),\n",
    "      rgb2gray(imageio.imread('A2-3.PNG'))]\n",
    "\n",
    "B1 = [rgb2gray(imageio.imread('B1-1.PNG')), \n",
    "      rgb2gray(imageio.imread('B1-2.PNG')),\n",
    "      rgb2gray(imageio.imread('B1-3.PNG'))]\n",
    "\n",
    "B2 = [rgb2gray(imageio.imread('B2-0.PNG')), \n",
    "      rgb2gray(imageio.imread('B2-1.PNG')),\n",
    "      rgb2gray(imageio.imread('B2-2.PNG')),\n",
    "      rgb2gray(imageio.imread('B2-3.PNG')),\n",
    "      rgb2gray(imageio.imread('B2-4.PNG'))]\n",
    "\n",
    "C1 = [rgb2gray(imageio.imread('C1-1.PNG')), \n",
    "      rgb2gray(imageio.imread('C1-2.PNG')),\n",
    "      rgb2gray(imageio.imread('C1-3.PNG')),\n",
    "      rgb2gray(imageio.imread('C1-4.PNG'))]\n",
    "\n",
    "D1 = [rgb2gray(imageio.imread('D1-1.PNG')), \n",
    "      rgb2gray(imageio.imread('D1-2.PNG')),\n",
    "      rgb2gray(imageio.imread('D1-3.PNG')),\n",
    "      rgb2gray(imageio.imread('D1-4.PNG'))]"
   ]
  },
  {
   "cell_type": "code",
   "execution_count": 5,
   "metadata": {},
   "outputs": [],
   "source": [
    "a1_fract = []\n",
    "for a1 in A1:\n",
    "    a1_fract.append(fractal_dimension(a1))\n",
    "a2_fract = []\n",
    "for a2 in A2:\n",
    "    a2_fract.append(fractal_dimension(a2))\n",
    "b1_fract = []\n",
    "for b1 in B1:\n",
    "    b1_fract.append(fractal_dimension(b1))\n",
    "b2_fract = []\n",
    "for b2 in B2:\n",
    "    b2_fract.append(fractal_dimension(b2))\n",
    "c1_fract = []\n",
    "for c1 in C1:\n",
    "    c1_fract.append(fractal_dimension(c1))\n",
    "d1_fract = []\n",
    "for d1 in D1:\n",
    "    d1_fract.append(fractal_dimension(d1))"
   ]
  },
  {
   "cell_type": "code",
   "execution_count": 17,
   "metadata": {},
   "outputs": [
    {
     "data": {
      "image/png": "[encoded data removed]",
      "text/plain": [
       "<Figure size 432x288 with 1 Axes>"
      ]
     },
     "metadata": {
      "needs_background": "light"
     },
     "output_type": "display_data"
    }
   ],
   "source": [
    "x_names = [\"A1\", \"A2\", \"B1\", \"B2\", \"C1\", \"D1\"]\n",
    "y_frac = [np.mean(a1_fract),np.mean(a2_fract), np.mean(b1_fract), np.mean(b2_fract), np.mean(c1_fract), np.mean(d1_fract)]\n",
    "\n",
    "plt.bar(x_names, y_frac)\n",
    " \n",
    "# Custom Axis title\n",
    "plt.xlabel('Средний фрактальный размер для каждой категории', fontsize='12', horizontalalignment='center')\n",
    "\n",
    "# Show the graph\n",
    "plt.show()"
   ]
  },
  {
   "cell_type": "code",
   "execution_count": 7,
   "metadata": {},
   "outputs": [],
   "source": [
    "sqr_a1 = []\n",
    "for a1 in A1:\n",
    "    x, y = a1.shape\n",
    "    sqr_a1.append(x*y)\n",
    "\n",
    "sqr_a2 = []\n",
    "for a2 in A2:\n",
    "    x, y = a2.shape\n",
    "    sqr_a2.append(x*y)\n",
    "    \n",
    "sqr_b1 = []\n",
    "for b1 in B1:\n",
    "    x, y = b1.shape\n",
    "    sqr_b1.append(x*y)\n",
    "    \n",
    "sqr_b2 = []\n",
    "for b2 in B2:\n",
    "    x, y = b2.shape\n",
    "    sqr_b2.append(x*y)\n",
    "    \n",
    "sqr_c1 = []\n",
    "for c1 in C1:\n",
    "    x, y = c1.shape\n",
    "    sqr_c1.append(x*y)\n",
    "\n",
    "sqr_d1 = []\n",
    "for d1 in D1:\n",
    "    x, y = d1.shape\n",
    "    sqr_d1.append(x*y)"
   ]
  },
  {
   "cell_type": "code",
   "execution_count": 8,
   "metadata": {},
   "outputs": [
    {
     "data": {
      "image/png": "[encoded data removed]",
      "text/plain": [
       "<Figure size 432x288 with 1 Axes>"
      ]
     },
     "metadata": {
      "needs_background": "light"
     },
     "output_type": "display_data"
    }
   ],
   "source": [
    "y_square = [np.mean(sqr_a1),np.mean(sqr_a2),np.mean(sqr_b1),np.mean(sqr_b2),np.mean(sqr_c1),np.mean(sqr_d1)]\n",
    "\n",
    "plt.bar(x_names, y_square)\n",
    " \n",
    "# Custom Axis title\n",
    "plt.xlabel('Ср. площадь', fontsize='12', horizontalalignment='center')\n",
    "\n",
    "# Show the graph\n",
    "plt.show()"
   ]
  },
  {
   "cell_type": "code",
   "execution_count": 9,
   "metadata": {},
   "outputs": [
    {
     "data": {
      "text/html": [
       "<div>\n",
       "<style scoped>\n",
       "    .dataframe tbody tr th:only-of-type {\n",
       "        vertical-align: middle;\n",
       "    }\n",
       "\n",
       "    .dataframe tbody tr th {\n",
       "        vertical-align: top;\n",
       "    }\n",
       "\n",
       "    .dataframe thead th {\n",
       "        text-align: right;\n",
       "    }\n",
       "</style>\n",
       "<table border=\"1\" class=\"dataframe\">\n",
       "  <thead>\n",
       "    <tr style=\"text-align: right;\">\n",
       "      <th></th>\n",
       "      <th>Площадь</th>\n",
       "      <th>Фрактал</th>\n",
       "    </tr>\n",
       "  </thead>\n",
       "  <tbody>\n",
       "    <tr>\n",
       "      <th>A1</th>\n",
       "      <td>8015.000000</td>\n",
       "      <td>1.204521</td>\n",
       "    </tr>\n",
       "    <tr>\n",
       "      <th>A2</th>\n",
       "      <td>20807.000000</td>\n",
       "      <td>1.301222</td>\n",
       "    </tr>\n",
       "    <tr>\n",
       "      <th>B1</th>\n",
       "      <td>19194.666667</td>\n",
       "      <td>1.414710</td>\n",
       "    </tr>\n",
       "    <tr>\n",
       "      <th>B2</th>\n",
       "      <td>18317.200000</td>\n",
       "      <td>1.273627</td>\n",
       "    </tr>\n",
       "    <tr>\n",
       "      <th>C1</th>\n",
       "      <td>11136.250000</td>\n",
       "      <td>1.293175</td>\n",
       "    </tr>\n",
       "    <tr>\n",
       "      <th>D1</th>\n",
       "      <td>3479.750000</td>\n",
       "      <td>1.134932</td>\n",
       "    </tr>\n",
       "  </tbody>\n",
       "</table>\n",
       "</div>"
      ],
      "text/plain": [
       "         Площадь   Фрактал\n",
       "A1   8015.000000  1.204521\n",
       "A2  20807.000000  1.301222\n",
       "B1  19194.666667  1.414710\n",
       "B2  18317.200000  1.273627\n",
       "C1  11136.250000  1.293175\n",
       "D1   3479.750000  1.134932"
      ]
     },
     "execution_count": 9,
     "metadata": {},
     "output_type": "execute_result"
    }
   ],
   "source": [
    "df = pd.DataFrame([], columns=[\"Площадь\", \"Фрактал\"], index = x_names)\n",
    "df[\"Площадь\"] = y_square\n",
    "df['Фрактал'] = y_frac\n",
    "df"
   ]
  },
  {
   "cell_type": "code",
   "execution_count": 15,
   "metadata": {},
   "outputs": [],
   "source": [
    "data = pd.DataFrame([], columns=[\"Площадь\", \"Фрактал\", \"Тип\"])\n",
    "for a1 in A1:\n",
    "    x, y = a1.shape\n",
    "    data = data.append({'Площадь': x*y, \"Фрактал\": fractal_dimension(a1), \"Тип\": \"А1\"}, ignore_index=True)\n",
    "for a2 in A2:\n",
    "    x, y = a2.shape\n",
    "    data = data.append({'Площадь': x*y, \"Фрактал\": fractal_dimension(a2), \"Тип\": \"А2\"}, ignore_index=True)\n",
    "for b1 in B1:\n",
    "    x, y = b1.shape\n",
    "    data = data.append({'Площадь': x*y, \"Фрактал\": fractal_dimension(b1), \"Тип\": \"B1\"}, ignore_index=True)\n",
    "for b2 in B2:\n",
    "    x, y = b2.shape\n",
    "    data = data.append({'Площадь': x*y, \"Фрактал\": fractal_dimension(b2), \"Тип\": \"B2\"}, ignore_index=True)\n",
    "for c1 in C1:\n",
    "    x, y = c1.shape\n",
    "    data = data.append({'Площадь': x*y, \"Фрактал\": fractal_dimension(c1), \"Тип\": \"C1\"}, ignore_index=True)\n",
    "for d1 in D1:\n",
    "    x, y = d1.shape\n",
    "    data = data.append({'Площадь': x*y, \"Фрактал\": fractal_dimension(d1), \"Тип\": \"D1\"}, ignore_index=True)"
   ]
  },
  {
   "cell_type": "code",
   "execution_count": 16,
   "metadata": {},
   "outputs": [
    {
     "data": {
      "text/plain": [
       "<seaborn.axisgrid.JointGrid at 0x7fbd3e178a00>"
      ]
     },
     "execution_count": 16,
     "metadata": {},
     "output_type": "execute_result"
    },
    {
     "data": {
      "image/png": "[encoded data removed]",
      "text/plain": [
       "<Figure size 432x432 with 3 Axes>"
      ]
     },
     "metadata": {
      "needs_background": "light"
     },
     "output_type": "display_data"
    }
   ],
   "source": [
    "sns.jointplot(data=data, x=\"Площадь\", y=\"Фрактал\", hue=\"Тип\")"
   ]
  },
  {
   "cell_type": "code",
   "execution_count": null,
   "metadata": {},
   "outputs": [],
   "source": []
  }
 ],
 "metadata": {
  "kernelspec": {
   "display_name": "Python 3 (ipykernel)",
   "language": "python",
   "name": "python3"
  },
  "language_info": {
   "codemirror_mode": {
    "name": "ipython",
    "version": 3
   },
   "file_extension": ".py",
   "mimetype": "text/x-python",
   "name": "python",
   "nbconvert_exporter": "python",
   "pygments_lexer": "ipython3",
   "version": "3.9.7"
  }
 },
 "nbformat": 4,
 "nbformat_minor": 4
}
